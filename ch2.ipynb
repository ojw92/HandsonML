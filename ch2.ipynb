{
 "cells": [
  {
   "cell_type": "markdown",
   "id": "358f960e",
   "metadata": {},
   "source": [
    "# "
   ]
  },
  {
   "cell_type": "markdown",
   "id": "7c054b79",
   "metadata": {},
   "source": [
    "### 1. Look at the big picture.\n",
    "### 2. Get the data.\n",
    "### 3. Discover and visualize the data to gain insights.\n",
    "### 4. Prepare the data for Machine Learning algorithms.\n",
    "### 5. Select a model and train it.\n",
    "### 6. Fine-tune your model.\n",
    "### 7. Present your solution.\n",
    "### 8. Launch, monitor, and maintain your system."
   ]
  },
  {
   "cell_type": "code",
   "execution_count": 1,
   "id": "c549cd6b",
   "metadata": {},
   "outputs": [],
   "source": [
    "# Configure access to Kaggle API credentials to be from .env\n",
    "\n",
    "import os\n",
    "from dotenv import load_dotenv\n",
    "\n",
    "# Load variables from .env file\n",
    "load_dotenv()\n",
    "\n",
    "# Set Kaggle API credentials for the session\n",
    "os.environ['KAGGLE_USERNAME'] = os.getenv('KAGGLE_USERNAME')\n",
    "os.environ['KAGGLE_KEY'] = os.getenv('KAGGLE_KEY')"
   ]
  },
  {
   "cell_type": "code",
   "execution_count": 2,
   "id": "d4640496",
   "metadata": {},
   "outputs": [],
   "source": [
    "# Imports\n",
    "\n",
    "# Dataset download\n",
    "import shutil\n",
    "from pathlib import Path\n",
    "import zipfile\n",
    "import kaggle\n",
    "\n",
    "# Data processing & exploration\n",
    "# %matplotlib inline\n",
    "import pandas as pd\n",
    "import matplotlib.pyplot as plt\n",
    "import numpy as np\n",
    "from sklearn.model_selection import train_test_split\n",
    "import timeit\n",
    "\n"
   ]
  },
  {
   "cell_type": "code",
   "execution_count": 3,
   "id": "f4018a75",
   "metadata": {},
   "outputs": [
    {
     "name": "stdout",
     "output_type": "stream",
     "text": [
      "Downloading dataset from Kaggle...\n",
      "Dataset URL: https://www.kaggle.com/datasets/kanchana1990/texas-real-estate-trends-2024-500-listings\n",
      "Download complete.\n",
      "==================================================\n",
      "Extracting texas-real-estate-trends-2024-500-listings.zip...\n",
      "Extracted and removed texas-real-estate-trends-2024-500-listings.zip\n",
      "==================================================\n",
      "CSV file(s) found: ['real_estate_texas_500_2024.csv']\n"
     ]
    }
   ],
   "source": [
    "# Download the dataset\n",
    "\n",
    "# Define project paths\n",
    "PROJECT_DIR = Path(r\"C:\\Users\\ohjin\\OneDrive\\문서\\Python\\HandsonML\")\n",
    "DATASET_NAME = \"kanchana1990/texas-real-estate-trends-2024-500-listings\"\n",
    "\n",
    "# Change to project directory\n",
    "os.makedirs(PROJECT_DIR, exist_ok=True)\n",
    "os.chdir(PROJECT_DIR)\n",
    "\n",
    "def fetch_and_extract_housing_data(project_dir=PROJECT_DIR, dataset_name=DATASET_NAME):\n",
    "    # Download dataset from Kaggle\n",
    "    print(\"Downloading dataset from Kaggle...\")\n",
    "    kaggle.api.dataset_download_files(dataset_name, path=project_dir, unzip=False)\n",
    "    print(\"Download complete.\")\n",
    "    print(\"==================================================\")\n",
    "\n",
    "    # Find the zip file and extract\n",
    "    zip_files = list(project_dir.glob(\"*.zip\"))\n",
    "    if not zip_files:\n",
    "        raise FileNotFoundError(\"No zip files found in project directory after Kaggle download.\")\n",
    "\n",
    "    for zip_path in zip_files:\n",
    "        print(f\"Extracting {zip_path.name}...\")\n",
    "        with zipfile.ZipFile(zip_path, 'r') as zip_ref:\n",
    "            zip_ref.extractall(project_dir)\n",
    "        # Optional: Clean up zip after extraction\n",
    "        os.remove(zip_path)\n",
    "        print(f\"Extracted and removed {zip_path.name}\")\n",
    "    print(\"==================================================\")\n",
    "\n",
    "    # Verify CSV presence\n",
    "    csv_files = list(project_dir.glob(\"*.csv\"))\n",
    "    if csv_files:\n",
    "        print(f\"CSV file(s) found: {[csv.name for csv in csv_files]}\")\n",
    "    else:\n",
    "        raise FileNotFoundError(\"No CSV files found after extraction.\")\n",
    "    \n",
    "    return csv_files[0]\n",
    "    \n",
    "csv_file = fetch_and_extract_housing_data()"
   ]
  },
  {
   "cell_type": "code",
   "execution_count": 19,
   "id": "b810a594",
   "metadata": {},
   "outputs": [],
   "source": [
    "# Load data\n",
    "def load_housing_data(csv_file=csv_file): \n",
    "    return pd.read_csv(csv_file)\n",
    "\n",
    "df = load_housing_data()"
   ]
  },
  {
   "cell_type": "code",
   "execution_count": 20,
   "id": "e09fed28",
   "metadata": {},
   "outputs": [
    {
     "name": "stdout",
     "output_type": "stream",
     "text": [
      "501 rows x 14 columns\n"
     ]
    },
    {
     "data": {
      "text/html": [
       "<div>\n",
       "<style scoped>\n",
       "    .dataframe tbody tr th:only-of-type {\n",
       "        vertical-align: middle;\n",
       "    }\n",
       "\n",
       "    .dataframe tbody tr th {\n",
       "        vertical-align: top;\n",
       "    }\n",
       "\n",
       "    .dataframe thead th {\n",
       "        text-align: right;\n",
       "    }\n",
       "</style>\n",
       "<table border=\"1\" class=\"dataframe\">\n",
       "  <thead>\n",
       "    <tr style=\"text-align: right;\">\n",
       "      <th></th>\n",
       "      <th>url</th>\n",
       "      <th>status</th>\n",
       "      <th>id</th>\n",
       "      <th>listPrice</th>\n",
       "      <th>baths</th>\n",
       "      <th>baths_full</th>\n",
       "      <th>baths_full_calc</th>\n",
       "      <th>beds</th>\n",
       "      <th>sqft</th>\n",
       "      <th>stories</th>\n",
       "      <th>sub_type</th>\n",
       "      <th>text</th>\n",
       "      <th>type</th>\n",
       "      <th>year_built</th>\n",
       "    </tr>\n",
       "  </thead>\n",
       "  <tbody>\n",
       "    <tr>\n",
       "      <th>0</th>\n",
       "      <td>https://www.realtor.com/realestateandhomes-det...</td>\n",
       "      <td>for_sale</td>\n",
       "      <td>9773941616</td>\n",
       "      <td>240000.0</td>\n",
       "      <td>2</td>\n",
       "      <td>2.0</td>\n",
       "      <td>2.0</td>\n",
       "      <td>3.0</td>\n",
       "      <td>1190.0</td>\n",
       "      <td>1.0</td>\n",
       "      <td>NaN</td>\n",
       "      <td>Welcome home to your peaceful retreat nestled ...</td>\n",
       "      <td>single_family</td>\n",
       "      <td>2018.0</td>\n",
       "    </tr>\n",
       "    <tr>\n",
       "      <th>1</th>\n",
       "      <td>https://www.realtor.com/realestateandhomes-det...</td>\n",
       "      <td>for_sale</td>\n",
       "      <td>9224923922</td>\n",
       "      <td>379900.0</td>\n",
       "      <td>4</td>\n",
       "      <td>3.0</td>\n",
       "      <td>3.0</td>\n",
       "      <td>4.0</td>\n",
       "      <td>2033.0</td>\n",
       "      <td>1.0</td>\n",
       "      <td>NaN</td>\n",
       "      <td>Beautiful country home on 0.85 fenced acres, m...</td>\n",
       "      <td>single_family</td>\n",
       "      <td>2002.0</td>\n",
       "    </tr>\n",
       "    <tr>\n",
       "      <th>2</th>\n",
       "      <td>https://www.realtor.com/realestateandhomes-det...</td>\n",
       "      <td>for_sale</td>\n",
       "      <td>9840661824</td>\n",
       "      <td>370000.0</td>\n",
       "      <td>2</td>\n",
       "      <td>2.0</td>\n",
       "      <td>2.0</td>\n",
       "      <td>4.0</td>\n",
       "      <td>2062.0</td>\n",
       "      <td>1.0</td>\n",
       "      <td>NaN</td>\n",
       "      <td>PRICED TO SELL CORNER LOT HAS A STORM SHELTER ...</td>\n",
       "      <td>single_family</td>\n",
       "      <td>2012.0</td>\n",
       "    </tr>\n",
       "    <tr>\n",
       "      <th>3</th>\n",
       "      <td>https://www.realtor.com/realestateandhomes-det...</td>\n",
       "      <td>for_sale</td>\n",
       "      <td>7338317229</td>\n",
       "      <td>444000.0</td>\n",
       "      <td>4</td>\n",
       "      <td>3.0</td>\n",
       "      <td>3.0</td>\n",
       "      <td>5.0</td>\n",
       "      <td>3705.0</td>\n",
       "      <td>2.0</td>\n",
       "      <td>NaN</td>\n",
       "      <td>Come check out country living in the city! Are...</td>\n",
       "      <td>single_family</td>\n",
       "      <td>1985.0</td>\n",
       "    </tr>\n",
       "    <tr>\n",
       "      <th>4</th>\n",
       "      <td>https://www.realtor.com/realestateandhomes-det...</td>\n",
       "      <td>for_sale</td>\n",
       "      <td>7285845528</td>\n",
       "      <td>569000.0</td>\n",
       "      <td>2</td>\n",
       "      <td>2.0</td>\n",
       "      <td>2.0</td>\n",
       "      <td>3.0</td>\n",
       "      <td>3282.0</td>\n",
       "      <td>2.0</td>\n",
       "      <td>NaN</td>\n",
       "      <td>Welcome to your dream retreat! Nestled on over...</td>\n",
       "      <td>single_family</td>\n",
       "      <td>1981.0</td>\n",
       "    </tr>\n",
       "  </tbody>\n",
       "</table>\n",
       "</div>"
      ],
      "text/plain": [
       "                                                 url    status          id  \\\n",
       "0  https://www.realtor.com/realestateandhomes-det...  for_sale  9773941616   \n",
       "1  https://www.realtor.com/realestateandhomes-det...  for_sale  9224923922   \n",
       "2  https://www.realtor.com/realestateandhomes-det...  for_sale  9840661824   \n",
       "3  https://www.realtor.com/realestateandhomes-det...  for_sale  7338317229   \n",
       "4  https://www.realtor.com/realestateandhomes-det...  for_sale  7285845528   \n",
       "\n",
       "   listPrice  baths  baths_full  baths_full_calc  beds    sqft  stories  \\\n",
       "0   240000.0      2         2.0              2.0   3.0  1190.0      1.0   \n",
       "1   379900.0      4         3.0              3.0   4.0  2033.0      1.0   \n",
       "2   370000.0      2         2.0              2.0   4.0  2062.0      1.0   \n",
       "3   444000.0      4         3.0              3.0   5.0  3705.0      2.0   \n",
       "4   569000.0      2         2.0              2.0   3.0  3282.0      2.0   \n",
       "\n",
       "  sub_type                                               text           type  \\\n",
       "0      NaN  Welcome home to your peaceful retreat nestled ...  single_family   \n",
       "1      NaN  Beautiful country home on 0.85 fenced acres, m...  single_family   \n",
       "2      NaN  PRICED TO SELL CORNER LOT HAS A STORM SHELTER ...  single_family   \n",
       "3      NaN  Come check out country living in the city! Are...  single_family   \n",
       "4      NaN  Welcome to your dream retreat! Nestled on over...  single_family   \n",
       "\n",
       "   year_built  \n",
       "0      2018.0  \n",
       "1      2002.0  \n",
       "2      2012.0  \n",
       "3      1985.0  \n",
       "4      1981.0  "
      ]
     },
     "execution_count": 20,
     "metadata": {},
     "output_type": "execute_result"
    }
   ],
   "source": [
    "print(f'{df.shape[0]} rows x {df.shape[1]} columns')\n",
    "df.head()"
   ]
  },
  {
   "cell_type": "code",
   "execution_count": 39,
   "id": "9ac7dce6",
   "metadata": {},
   "outputs": [],
   "source": [
    "# Drop NA values\n",
    "df = df.dropna(subset=[\"sqft\"])"
   ]
  },
  {
   "cell_type": "code",
   "execution_count": 40,
   "id": "f190e0ae",
   "metadata": {},
   "outputs": [
    {
     "name": "stdout",
     "output_type": "stream",
     "text": [
      "<class 'pandas.core.frame.DataFrame'>\n",
      "Index: 438 entries, 0 to 500\n",
      "Data columns (total 15 columns):\n",
      " #   Column           Non-Null Count  Dtype   \n",
      "---  ------           --------------  -----   \n",
      " 0   url              438 non-null    object  \n",
      " 1   status           438 non-null    object  \n",
      " 2   id               438 non-null    int64   \n",
      " 3   listPrice        436 non-null    float64 \n",
      " 4   baths            438 non-null    int64   \n",
      " 5   baths_full       432 non-null    float64 \n",
      " 6   baths_full_calc  432 non-null    float64 \n",
      " 7   beds             434 non-null    float64 \n",
      " 8   sqft             438 non-null    float64 \n",
      " 9   stories          389 non-null    float64 \n",
      " 10  sub_type         10 non-null     object  \n",
      " 11  text             433 non-null    object  \n",
      " 12  type             438 non-null    object  \n",
      " 13  year_built       286 non-null    float64 \n",
      " 14  sqft_cat         436 non-null    category\n",
      "dtypes: category(1), float64(7), int64(2), object(5)\n",
      "memory usage: 52.0+ KB\n"
     ]
    }
   ],
   "source": [
    "df.info()"
   ]
  },
  {
   "cell_type": "code",
   "execution_count": 41,
   "id": "f111cb20",
   "metadata": {},
   "outputs": [
    {
     "data": {
      "text/plain": [
       "baths_full\n",
       "2.0    278\n",
       "3.0     99\n",
       "4.0     26\n",
       "1.0     24\n",
       "5.0      4\n",
       "8.0      1\n",
       "Name: count, dtype: int64"
      ]
     },
     "execution_count": 41,
     "metadata": {},
     "output_type": "execute_result"
    }
   ],
   "source": [
    "df.baths_full.value_counts()"
   ]
  },
  {
   "cell_type": "code",
   "execution_count": 42,
   "id": "d4d6f0ac",
   "metadata": {},
   "outputs": [
    {
     "data": {
      "text/html": [
       "<div>\n",
       "<style scoped>\n",
       "    .dataframe tbody tr th:only-of-type {\n",
       "        vertical-align: middle;\n",
       "    }\n",
       "\n",
       "    .dataframe tbody tr th {\n",
       "        vertical-align: top;\n",
       "    }\n",
       "\n",
       "    .dataframe thead th {\n",
       "        text-align: right;\n",
       "    }\n",
       "</style>\n",
       "<table border=\"1\" class=\"dataframe\">\n",
       "  <thead>\n",
       "    <tr style=\"text-align: right;\">\n",
       "      <th></th>\n",
       "      <th>id</th>\n",
       "      <th>listPrice</th>\n",
       "      <th>baths</th>\n",
       "      <th>baths_full</th>\n",
       "      <th>baths_full_calc</th>\n",
       "      <th>beds</th>\n",
       "      <th>sqft</th>\n",
       "      <th>stories</th>\n",
       "      <th>year_built</th>\n",
       "    </tr>\n",
       "  </thead>\n",
       "  <tbody>\n",
       "    <tr>\n",
       "      <th>count</th>\n",
       "      <td>4.380000e+02</td>\n",
       "      <td>4.360000e+02</td>\n",
       "      <td>438.000000</td>\n",
       "      <td>432.000000</td>\n",
       "      <td>432.000000</td>\n",
       "      <td>434.000000</td>\n",
       "      <td>438.000000</td>\n",
       "      <td>389.000000</td>\n",
       "      <td>286.000000</td>\n",
       "    </tr>\n",
       "    <tr>\n",
       "      <th>mean</th>\n",
       "      <td>9.128449e+09</td>\n",
       "      <td>4.632288e+05</td>\n",
       "      <td>2.636986</td>\n",
       "      <td>2.335648</td>\n",
       "      <td>2.335648</td>\n",
       "      <td>3.474654</td>\n",
       "      <td>2334.568493</td>\n",
       "      <td>1.375321</td>\n",
       "      <td>1999.559441</td>\n",
       "    </tr>\n",
       "    <tr>\n",
       "      <th>std</th>\n",
       "      <td>7.994131e+08</td>\n",
       "      <td>3.258627e+05</td>\n",
       "      <td>1.031851</td>\n",
       "      <td>0.762112</td>\n",
       "      <td>0.762112</td>\n",
       "      <td>0.889016</td>\n",
       "      <td>3220.244985</td>\n",
       "      <td>0.525639</td>\n",
       "      <td>25.310180</td>\n",
       "    </tr>\n",
       "    <tr>\n",
       "      <th>min</th>\n",
       "      <td>7.021680e+09</td>\n",
       "      <td>1.900000e+04</td>\n",
       "      <td>0.000000</td>\n",
       "      <td>1.000000</td>\n",
       "      <td>1.000000</td>\n",
       "      <td>0.000000</td>\n",
       "      <td>0.000000</td>\n",
       "      <td>1.000000</td>\n",
       "      <td>1891.000000</td>\n",
       "    </tr>\n",
       "    <tr>\n",
       "      <th>25%</th>\n",
       "      <td>8.831153e+09</td>\n",
       "      <td>2.799000e+05</td>\n",
       "      <td>2.000000</td>\n",
       "      <td>2.000000</td>\n",
       "      <td>2.000000</td>\n",
       "      <td>3.000000</td>\n",
       "      <td>1604.250000</td>\n",
       "      <td>1.000000</td>\n",
       "      <td>1981.250000</td>\n",
       "    </tr>\n",
       "    <tr>\n",
       "      <th>50%</th>\n",
       "      <td>9.367015e+09</td>\n",
       "      <td>3.799695e+05</td>\n",
       "      <td>2.000000</td>\n",
       "      <td>2.000000</td>\n",
       "      <td>2.000000</td>\n",
       "      <td>3.000000</td>\n",
       "      <td>2034.500000</td>\n",
       "      <td>1.000000</td>\n",
       "      <td>2005.500000</td>\n",
       "    </tr>\n",
       "    <tr>\n",
       "      <th>75%</th>\n",
       "      <td>9.764096e+09</td>\n",
       "      <td>5.392500e+05</td>\n",
       "      <td>3.000000</td>\n",
       "      <td>3.000000</td>\n",
       "      <td>3.000000</td>\n",
       "      <td>4.000000</td>\n",
       "      <td>2636.500000</td>\n",
       "      <td>2.000000</td>\n",
       "      <td>2021.750000</td>\n",
       "    </tr>\n",
       "    <tr>\n",
       "      <th>max</th>\n",
       "      <td>9.992374e+09</td>\n",
       "      <td>2.875000e+06</td>\n",
       "      <td>8.000000</td>\n",
       "      <td>8.000000</td>\n",
       "      <td>8.000000</td>\n",
       "      <td>9.000000</td>\n",
       "      <td>67139.000000</td>\n",
       "      <td>4.000000</td>\n",
       "      <td>2024.000000</td>\n",
       "    </tr>\n",
       "  </tbody>\n",
       "</table>\n",
       "</div>"
      ],
      "text/plain": [
       "                 id     listPrice       baths  baths_full  baths_full_calc  \\\n",
       "count  4.380000e+02  4.360000e+02  438.000000  432.000000       432.000000   \n",
       "mean   9.128449e+09  4.632288e+05    2.636986    2.335648         2.335648   \n",
       "std    7.994131e+08  3.258627e+05    1.031851    0.762112         0.762112   \n",
       "min    7.021680e+09  1.900000e+04    0.000000    1.000000         1.000000   \n",
       "25%    8.831153e+09  2.799000e+05    2.000000    2.000000         2.000000   \n",
       "50%    9.367015e+09  3.799695e+05    2.000000    2.000000         2.000000   \n",
       "75%    9.764096e+09  5.392500e+05    3.000000    3.000000         3.000000   \n",
       "max    9.992374e+09  2.875000e+06    8.000000    8.000000         8.000000   \n",
       "\n",
       "             beds          sqft     stories   year_built  \n",
       "count  434.000000    438.000000  389.000000   286.000000  \n",
       "mean     3.474654   2334.568493    1.375321  1999.559441  \n",
       "std      0.889016   3220.244985    0.525639    25.310180  \n",
       "min      0.000000      0.000000    1.000000  1891.000000  \n",
       "25%      3.000000   1604.250000    1.000000  1981.250000  \n",
       "50%      3.000000   2034.500000    1.000000  2005.500000  \n",
       "75%      4.000000   2636.500000    2.000000  2021.750000  \n",
       "max      9.000000  67139.000000    4.000000  2024.000000  "
      ]
     },
     "execution_count": 42,
     "metadata": {},
     "output_type": "execute_result"
    }
   ],
   "source": [
    "df.describe()"
   ]
  },
  {
   "cell_type": "code",
   "execution_count": 43,
   "id": "bac39a2b",
   "metadata": {},
   "outputs": [
    {
     "data": {
      "image/png": "[encoded data removed]",
      "text/plain": [
       "<Figure size 1200x900 with 9 Axes>"
      ]
     },
     "metadata": {},
     "output_type": "display_data"
    }
   ],
   "source": [
    "# Histogram\n",
    "df.hist(bins=25, figsize=(12,9))\n",
    "plt.show()"
   ]
  },
  {
   "cell_type": "code",
   "execution_count": 44,
   "id": "f651a4b5",
   "metadata": {},
   "outputs": [
    {
     "name": "stdout",
     "output_type": "stream",
     "text": [
      "Train data set has 351 rows, and test data set has 87 rows.\n"
     ]
    }
   ],
   "source": [
    "# Train test split\n",
    "def split_train_test(data, test_ratio):\n",
    "    np.random.seed(25)\n",
    "    ind = np.random.permutation(len(data)) \n",
    "    test_size = int(len(data) * test_ratio) \n",
    "    test_ind = ind[:test_size] \n",
    "    train_ind = ind[test_size:] \n",
    "    return data.iloc[train_ind], data.iloc[test_ind]\n",
    "\n",
    "train_df, test_df = split_train_test(df, 0.2) \n",
    "print(f\"Train data set has {len(train_df)} rows, and test data set has {len(test_df)} rows.\")"
   ]
  },
  {
   "cell_type": "code",
   "execution_count": 45,
   "id": "ccd2e406",
   "metadata": {},
   "outputs": [
    {
     "name": "stdout",
     "output_type": "stream",
     "text": [
      "Custom split time (100 runs): 0.0163 seconds\n",
      "Scikit-learn split time (100 runs): 0.0449 seconds\n"
     ]
    }
   ],
   "source": [
    "# Benchmarking data set split times\n",
    "def custom_split():\n",
    "    train_df, test_df = split_train_test(df, 0.2)\n",
    "    return train_df, test_df\n",
    "\n",
    "def sklearn_split():\n",
    "    train_df, test_df = train_test_split(df, test_size=0.2, shuffle=True, random_state=25)\n",
    "    return train_df, test_df\n",
    "\n",
    "custom_time = timeit.timeit(custom_split, number=100)\n",
    "sklearn_time = timeit.timeit(sklearn_split, number=100)\n",
    "\n",
    "print(f\"Custom split time (100 runs): {custom_time:.4f} seconds\")\n",
    "print(f\"Scikit-learn split time (100 runs): {sklearn_time:.4f} seconds\")"
   ]
  },
  {
   "cell_type": "markdown",
   "id": "0b3005c5",
   "metadata": {},
   "source": [
    "#### * The custom split function is faster, but sklearn's train_test_split() supports a variety of inputs (NumPy arrays, Series, lists, sparse matrices)"
   ]
  },
  {
   "cell_type": "code",
   "execution_count": 62,
   "id": "5e025fc9",
   "metadata": {},
   "outputs": [
    {
     "name": "stdout",
     "output_type": "stream",
     "text": [
      "Number of rows with NaN 'sqft': 0\n"
     ]
    },
    {
     "data": {
      "text/plain": [
       "<Axes: >"
      ]
     },
     "execution_count": 62,
     "metadata": {},
     "output_type": "execute_result"
    },
    {
     "data": {
      "image/png": "[encoded data removed]",
      "text/plain": [
       "<Figure size 640x480 with 1 Axes>"
      ]
     },
     "metadata": {},
     "output_type": "display_data"
    }
   ],
   "source": [
    "# Histogram of square footage categories\n",
    "\n",
    "print(f\"Number of rows with NaN 'sqft': {df['sqft'].isna().sum()}\")\n",
    "# df[df[\"sqft_cat\"].isna()]             # displays those rows\n",
    "df = df.dropna(subset=[\"sqft\"])     # drop rows with NaN in 'sqft_cat'\n",
    "\n",
    "df[\"sqft_cat\"] = pd.cut(df[\"sqft\"], \n",
    "                               bins=[0., 1000., 2000., 3000., np.inf], \n",
    "                               labels=[1, 2, 3, 4,])\n",
    "df[\"sqft_cat\"].hist()"
   ]
  },
  {
   "cell_type": "code",
   "execution_count": 63,
   "id": "480053f0",
   "metadata": {},
   "outputs": [
    {
     "name": "stdout",
     "output_type": "stream",
     "text": [
      "Number of rows with NaN 'sqft_cat': 0\n"
     ]
    }
   ],
   "source": [
    "# Check for rows with NaN for 'sqft_cat'\n",
    "\n",
    "print(f\"Number of rows with NaN 'sqft_cat': {df['sqft_cat'].isna().sum()}\")\n",
    "# df[df[\"sqft_cat\"].isna()]             # displays those rows\n",
    "df = df.dropna(subset=[\"sqft_cat\"])     # drop rows with NaN in 'sqft_cat'"
   ]
  },
  {
   "cell_type": "code",
   "execution_count": 65,
   "id": "732cd920",
   "metadata": {},
   "outputs": [],
   "source": [
    "from sklearn.model_selection import StratifiedShuffleSplit\n",
    "\n",
    "split = StratifiedShuffleSplit(n_splits=1, test_size=0.2, random_state=25)\n",
    "\n",
    "#for train_ind, test_ind in split.split(df, df[\"sqft_cat\"]): \n",
    "#    strat_train = df.loc[train_ind] \n",
    "#    strat_test = df.loc[test_ind]\n",
    "\n",
    "#strat_train.head()"
   ]
  },
  {
   "cell_type": "code",
   "execution_count": null,
   "id": "a4ea83de",
   "metadata": {},
   "outputs": [],
   "source": []
  },
  {
   "cell_type": "code",
   "execution_count": null,
   "id": "5c3a5fb5",
   "metadata": {},
   "outputs": [],
   "source": []
  },
  {
   "cell_type": "code",
   "execution_count": null,
   "id": "68084ead",
   "metadata": {},
   "outputs": [],
   "source": []
  }
 ],
 "metadata": {
  "kernelspec": {
   "display_name": "handson",
   "language": "python",
   "name": "python3"
  },
  "language_info": {
   "codemirror_mode": {
    "name": "ipython",
    "version": 3
   },
   "file_extension": ".py",
   "mimetype": "text/x-python",
   "name": "python",
   "nbconvert_exporter": "python",
   "pygments_lexer": "ipython3",
   "version": "3.11.13"
  }
 },
 "nbformat": 4,
 "nbformat_minor": 5
}
